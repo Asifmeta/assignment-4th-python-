{
 "cells": [
  {
   "cell_type": "markdown",
   "metadata": {},
   "source": [
    "# Assignment No 4 Overview:\n",
    "This assignment aims to evaluate your grasp of the Python fundamentals discussed during our onsite sessions. The topics covered include:\n",
    "Print statements\n",
    "Strings\n",
    "f-Strings\n",
    "Operators\n",
    "Lists\n",
    "Tuples\n",
    "For loops\n",
    "Input handling\n"
   ]
  },
  {
   "cell_type": "markdown",
   "metadata": {},
   "source": [
    "# Python Programming Assignment 04\n",
    "\n",
    "**<span style=\"color: green; font-weight: bold;\">Instructions:</span> Implement Python programs to accomplish the following task**\n",
    "\n",
    "**Task**\n",
    "\n",
    "You are tasked with creating a Python program that serves as an interactive tool for a friend who enjoys exploring numbers. \n",
    "\n",
    "The program should begin by \n",
    "* prompting the user to enter their name \n",
    "* and then ask them for three of their favorite numbers. \n",
    "* After gathering this information, the program should greet the user with a personalized message that includes their name. \n",
    "* The three numbers provided by the user should be stored in a list. \n",
    "* The program should then check if any of the numbers are even or odd, and store this information in a separate list of tuples, \n",
    "* where each tuple contains the number and a string indicating whether it is \"even\" or \"odd\". \n",
    "* Following this, the program should use a for loop to iterate over the list of numbers, and for each number, \n",
    "* it should create a tuple containing the number and its square. \n",
    "* These tuples should be printed in a creative and engaging format. \n",
    "* Additionally, the program should calculate the sum of the three numbers and print the result, accompanied by an encouraging message. \n",
    "* Finally, the program should determine if the sum is a prime number and notify the user with an appropriate message. \n",
    "* The goal is to make the tool both enjoyable and informative, \n",
    "* allowing the user to explore their favorite numbers in a fun and interactive way, \n",
    "* while also introducing some interesting logical checks.\n",
    "\n",
    "**Example Output:**\n",
    "```yaml\n",
    "Enter your name: Alex\n",
    "Enter your first favorite number: 4\n",
    "Enter your second favorite number: 6\n",
    "Enter your third favorite number: 9\n",
    "\n",
    "Hello, Alex! Let's explore your favorite numbers:\n",
    "The number 4 is even.\n",
    "The number 6 is even.\n",
    "The number 9 is odd.\n",
    "The number 4 and its square: (4, 16)\n",
    "The number 6 and its square: (6, 36)\n",
    "The number 9 and its square: (9, 81)\n",
    "\n",
    "\n",
    "Amazing! The sum of your favorite numbers is: 19\n",
    "Wow, 19 is a prime number!\n",
    "```"
   ]
  },
  {
   "cell_type": "code",
   "execution_count": 33,
   "metadata": {},
   "outputs": [
    {
     "name": "stdout",
     "output_type": "stream",
     "text": [
      "Hello, asif! Let's explore your favourit numbers is: [1, 1, 1]\n",
      "The number 1 is odd\n",
      "The number 1 is odd\n",
      "The number 1 is odd\n",
      "The number 1 and its square: (1, 1)\n",
      "The number 1 and its square: (1, 1)\n",
      "The number 1 and its square: (1, 1)\n",
      "The sum of all numbers in the list is: 3\n",
      "3 is a prime number.\n"
     ]
    }
   ],
   "source": [
    "\n",
    "name:str = input(\"Enter your name: \")\n",
    "num1:str = input(\"Enter your first favorite number: \")\n",
    "num2:str = input(\"Enter your second favorite number: \")\n",
    "num3:str = input(\"Enter your third favorite number: \")\n",
    "num : list [int] = []\n",
    "num.append(int(num1))\n",
    "num.append(int(num2))\n",
    "num.append(int(num3))\n",
    "\n",
    "\n",
    "great : str = f\"Hello, {name}! Let's explore your favourit numbers is: {num}\"\n",
    "print (great)\n",
    "\n",
    "\n",
    "for i in num :\n",
    "    if i%2 == 0:\n",
    "        print (f\"The number {i} is even\")\n",
    "    else:\n",
    "        print (f\"The number {i} is odd\")\n",
    "        \n",
    "\n",
    "for f in num : \n",
    "    num11 : tuple = (f, f**2)\n",
    "    print (f\"The number {f} and its square: {num11}\")\n",
    "total: int = sum(num)\n",
    "print(f\"The sum of all numbers in the list is: {total}\")\n",
    "\n",
    "def is_prime(n):\n",
    "    if n <= 1:\n",
    "        return False\n",
    "    if n <= 3:\n",
    "        return True\n",
    "    if n % 2 == 0 or n % 3 == 0:\n",
    "        return False\n",
    "    i = 5\n",
    "    while i * i <= n:\n",
    "        if n % i == 0 or n % (i + 2) == 0:\n",
    "            return False\n",
    "        i += 6\n",
    "    return True\n",
    "if is_prime(total):\n",
    "    print(f\"{total} is a prime number.\")\n",
    "else:\n",
    "    print(f\"{total} is not a prime number.\")"
   ]
  }
 ],
 "metadata": {
  "kernelspec": {
   "display_name": "base",
   "language": "python",
   "name": "python3"
  },
  "language_info": {
   "codemirror_mode": {
    "name": "ipython",
    "version": 3
   },
   "file_extension": ".py",
   "mimetype": "text/x-python",
   "name": "python",
   "nbconvert_exporter": "python",
   "pygments_lexer": "ipython3",
   "version": "3.11.6"
  }
 },
 "nbformat": 4,
 "nbformat_minor": 2
}
